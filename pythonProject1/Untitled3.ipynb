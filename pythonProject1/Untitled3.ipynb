{
 "cells": [
  {
   "cell_type": "code",
   "execution_count": 1,
   "id": "f86a104d-5100-4151-b113-47312f9725c5",
   "metadata": {
    "tags": []
   },
   "outputs": [],
   "source": [
    "import sympy\n",
    "sympy.init_printing(use_unicode=True)"
   ]
  },
  {
   "cell_type": "code",
   "execution_count": 2,
   "id": "7d7bd3b0-3ad3-4e41-bcb1-6ccdbb98d6b6",
   "metadata": {
    "tags": []
   },
   "outputs": [],
   "source": [
    "# Ensure that unicode characters are used for special symbols"
   ]
  },
  {
   "cell_type": "code",
   "execution_count": 18,
   "id": "d97e28ad-83f1-4686-82a2-57f4b4969e91",
   "metadata": {
    "tags": []
   },
   "outputs": [],
   "source": [
    "t, s = sympy.symbols('t, s')"
   ]
  },
  {
   "cell_type": "code",
   "execution_count": 39,
   "id": "0433a7c4-2672-4aab-8d83-d6fb3031a919",
   "metadata": {
    "tags": []
   },
   "outputs": [
    {
     "ename": "SyntaxError",
     "evalue": "unexpected character after line continuation character (1818428928.py, line 6)",
     "output_type": "error",
     "traceback": [
      "\u001b[1;36m  Cell \u001b[1;32mIn[39], line 6\u001b[1;36m\u001b[0m\n\u001b[1;33m    eqn = sympy.Eq((Lyp + 3*Ly)\\(Lyppp + 11*Lypp + 12*Lyp + 18*Ly, 0)\u001b[0m\n\u001b[1;37m                                                                     ^\u001b[0m\n\u001b[1;31mSyntaxError\u001b[0m\u001b[1;31m:\u001b[0m unexpected character after line continuation character\n"
     ]
    }
   ],
   "source": [
    "Y = sympy.Symbol('Y')\n",
    "Ly = Y\n",
    "Lyp = s*Y - y0\n",
    "Lypp = s**2 * Y - s*y0 - yp0\n",
    "Lyppp = s**3 * Y - s**y0 - s*y0 - yp0\n",
    "eqn = sympy.Eq((Lyp + 3*Ly)\\(Lyppp + 11*Lypp + 12*Lyp + 18*Ly, 0))\n",
    "eqn"
   ]
  },
  {
   "cell_type": "code",
   "execution_count": 30,
   "id": "4d889003-2d5f-411a-b23a-a74b19f95afe",
   "metadata": {
    "tags": []
   },
   "outputs": [
    {
     "data": {
      "text/latex": [
       "$\\displaystyle \\left[ \\frac{1}{s^{3} + 11 s^{2} + 12 s + 18}\\right]$"
      ],
      "text/plain": [
       "⎡          1           ⎤\n",
       "⎢──────────────────────⎥\n",
       "⎢ 3       2            ⎥\n",
       "⎣s  + 11⋅s  + 12⋅s + 18⎦"
      ]
     },
     "execution_count": 30,
     "metadata": {},
     "output_type": "execute_result"
    }
   ],
   "source": [
    "sympy.\n",
    "solve( eqn, Y )"
   ]
  },
  {
   "cell_type": "code",
   "execution_count": null,
   "id": "dfb283a0-67c7-4dd0-acbe-ffe8165cac42",
   "metadata": {},
   "outputs": [],
   "source": []
  }
 ],
 "metadata": {
  "kernelspec": {
   "display_name": "Python 3 (ipykernel)",
   "language": "python",
   "name": "python3"
  },
  "language_info": {
   "codemirror_mode": {
    "name": "ipython",
    "version": 3
   },
   "file_extension": ".py",
   "mimetype": "text/x-python",
   "name": "python",
   "nbconvert_exporter": "python",
   "pygments_lexer": "ipython3",
   "version": "3.8.17"
  }
 },
 "nbformat": 4,
 "nbformat_minor": 5
}
