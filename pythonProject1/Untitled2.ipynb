{
 "cells": [
  {
   "cell_type": "code",
   "execution_count": 1,
   "id": "1447fb63-038a-4472-ac70-29bc2d47b57f",
   "metadata": {
    "tags": []
   },
   "outputs": [],
   "source": [
    "import sympy\n",
    "sympy.init_printing(use_unicode=True)"
   ]
  },
  {
   "cell_type": "code",
   "execution_count": 2,
   "id": "a05d8028-d54a-4606-a1cf-eccde0a13eaf",
   "metadata": {
    "tags": []
   },
   "outputs": [],
   "source": [
    "# Ensure that unicode characters are used for special symbols"
   ]
  },
  {
   "cell_type": "code",
   "execution_count": 3,
   "id": "04433341-dff7-4d67-be6e-d0c3eca55227",
   "metadata": {
    "tags": []
   },
   "outputs": [],
   "source": [
    "t, s = sympy.symbols('t, s')"
   ]
  },
  {
   "cell_type": "code",
   "execution_count": null,
   "id": "9de53482-3537-42f0-afdd-04bbe829b183",
   "metadata": {
    "tags": []
   },
   "outputs": [],
   "source": [
    "f = (-6.9782)/(s+0.5109+j1.2421 + 12*s + 18)"
   ]
  },
  {
   "cell_type": "code",
   "execution_count": null,
   "id": "14baed2e-93b9-464e-a5a7-c2541f30f33e",
   "metadata": {
    "tags": []
   },
   "outputs": [],
   "source": [
    "inverse_laplace_transform = sympy.inverse_laplace_transform(f, s, t)\n",
    "inverse_laplace_transform"
   ]
  },
  {
   "cell_type": "code",
   "execution_count": null,
   "id": "6537329a-a9bd-4cb8-8fda-621f42ed007c",
   "metadata": {},
   "outputs": [],
   "source": []
  },
  {
   "cell_type": "code",
   "execution_count": null,
   "id": "ff076823-def7-416b-abd9-a8b2c1f15718",
   "metadata": {},
   "outputs": [],
   "source": []
  },
  {
   "cell_type": "code",
   "execution_count": null,
   "id": "2db1907e-71b4-499c-b27b-54a5ae829a9a",
   "metadata": {
    "tags": []
   },
   "outputs": [],
   "source": [
    "# Expand the expression and display it"
   ]
  },
  {
   "cell_type": "code",
   "execution_count": null,
   "id": "b9d1e57e-5c80-4c25-bf0b-a1eeabf153c5",
   "metadata": {
    "tags": []
   },
   "outputs": [],
   "source": [
    "expanded_expression = sympy.expand(inverse_laplace_transformed)\n",
    "expanded_expression"
   ]
  },
  {
   "cell_type": "code",
   "execution_count": null,
   "id": "356a9e28-af02-413a-9d30-2c94dea78a4d",
   "metadata": {
    "tags": []
   },
   "outputs": [],
   "source": [
    "sympy.laplace_transform(inverse_laplace_transform, t, s)"
   ]
  },
  {
   "cell_type": "code",
   "execution_count": null,
   "id": "33161640-1ccc-49f9-be96-f682575f424a",
   "metadata": {},
   "outputs": [],
   "source": []
  }
 ],
 "metadata": {
  "kernelspec": {
   "display_name": "Python 3 (ipykernel)",
   "language": "python",
   "name": "python3"
  },
  "language_info": {
   "codemirror_mode": {
    "name": "ipython",
    "version": 3
   },
   "file_extension": ".py",
   "mimetype": "text/x-python",
   "name": "python",
   "nbconvert_exporter": "python",
   "pygments_lexer": "ipython3",
   "version": "3.8.17"
  }
 },
 "nbformat": 4,
 "nbformat_minor": 5
}
