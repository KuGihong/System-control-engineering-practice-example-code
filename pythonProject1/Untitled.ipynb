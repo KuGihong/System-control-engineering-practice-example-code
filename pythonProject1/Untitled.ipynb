{
 "cells": [
  {
   "cell_type": "code",
   "execution_count": 6,
   "id": "f8e8b05c-6021-4e8e-9c55-39ff0bcac00c",
   "metadata": {
    "tags": []
   },
   "outputs": [],
   "source": [
    "import sympy\n",
    "sympy.init_printing(use_unicode=True)"
   ]
  },
  {
   "cell_type": "code",
   "execution_count": null,
   "id": "a3cde575-b30a-4910-b18a-f4f94c4a37e8",
   "metadata": {},
   "outputs": [],
   "source": [
    "# Ensure that unicode characters are used for special symbols"
   ]
  },
  {
   "cell_type": "code",
   "execution_count": 7,
   "id": "d2776f47-4170-4b1f-a3f5-77c5bcb63e58",
   "metadata": {
    "tags": []
   },
   "outputs": [],
   "source": [
    "t, s = sympy.symbols('t, s')"
   ]
  },
  {
   "cell_type": "code",
   "execution_count": 7,
   "id": "2f999c1a-b09f-4941-85e9-2718162cedd3",
   "metadata": {
    "tags": []
   },
   "outputs": [
    {
     "ename": "NameError",
     "evalue": "name 's' is not defined",
     "output_type": "error",
     "traceback": [
      "\u001b[1;31m---------------------------------------------------------------------------\u001b[0m",
      "\u001b[1;31mNameError\u001b[0m                                 Traceback (most recent call last)",
      "Cell \u001b[1;32mIn[7], line 1\u001b[0m\n\u001b[1;32m----> 1\u001b[0m f \u001b[38;5;241m=\u001b[39m \u001b[38;5;241m15\u001b[39m\u001b[38;5;241m/\u001b[39m\u001b[43ms\u001b[49m\n",
      "\u001b[1;31mNameError\u001b[0m: name 's' is not defined"
     ]
    }
   ],
   "source": [
    "f = 15/s"
   ]
  },
  {
   "cell_type": "code",
   "execution_count": 6,
   "id": "6703acc6-afd0-4b6d-8cb8-14822588b1d1",
   "metadata": {
    "tags": []
   },
   "outputs": [
    {
     "ename": "NameError",
     "evalue": "name 'sympy' is not defined",
     "output_type": "error",
     "traceback": [
      "\u001b[1;31m---------------------------------------------------------------------------\u001b[0m",
      "\u001b[1;31mNameError\u001b[0m                                 Traceback (most recent call last)",
      "Cell \u001b[1;32mIn[6], line 1\u001b[0m\n\u001b[1;32m----> 1\u001b[0m inverse_laplace_transformed \u001b[38;5;241m=\u001b[39m \u001b[43msympy\u001b[49m\u001b[38;5;241m.\u001b[39mlaplace_transform(f, s, t)\n",
      "\u001b[1;31mNameError\u001b[0m: name 'sympy' is not defined"
     ]
    }
   ],
   "source": [
    "inverse_laplace_transformed = sympy.laplace_transform(f, s, t)"
   ]
  },
  {
   "cell_type": "code",
   "execution_count": 2,
   "id": "59448f48-42c3-4e78-807f-46405632259e",
   "metadata": {
    "tags": []
   },
   "outputs": [
    {
     "ename": "NameError",
     "evalue": "name 'inverse_laplace_transformed' is not defined",
     "output_type": "error",
     "traceback": [
      "\u001b[1;31m---------------------------------------------------------------------------\u001b[0m",
      "\u001b[1;31mNameError\u001b[0m                                 Traceback (most recent call last)",
      "Cell \u001b[1;32mIn[2], line 1\u001b[0m\n\u001b[1;32m----> 1\u001b[0m \u001b[43minverse_laplace_transformed\u001b[49m\n",
      "\u001b[1;31mNameError\u001b[0m: name 'inverse_laplace_transformed' is not defined"
     ]
    }
   ],
   "source": [
    "inverse_laplace_transformed"
   ]
  },
  {
   "cell_type": "code",
   "execution_count": 29,
   "id": "5939f830-afea-4ae5-bfe2-b89b4525dd26",
   "metadata": {
    "tags": []
   },
   "outputs": [],
   "source": [
    "# Expand the expression and display it"
   ]
  },
  {
   "cell_type": "code",
   "execution_count": 30,
   "id": "6db6252e-1823-40e6-b1b9-e0305b566cd0",
   "metadata": {
    "tags": []
   },
   "outputs": [
    {
     "data": {
      "text/latex": [
       "$\\displaystyle \\frac{\\theta\\left(t\\right)}{5} - \\frac{e^{- 5 t} \\theta\\left(t\\right)}{5}$"
      ],
      "text/plain": [
       "        -5⋅t     \n",
       "θ(t)   ℯ    ⋅θ(t)\n",
       "──── - ──────────\n",
       " 5         5     "
      ]
     },
     "execution_count": 30,
     "metadata": {},
     "output_type": "execute_result"
    }
   ],
   "source": [
    "expanded_expression = sympy.expand(inverse_laplace_transformed)\n",
    "expanded_expression"
   ]
  },
  {
   "cell_type": "code",
   "execution_count": null,
   "id": "ea0c2aa8-cff9-4355-8037-9e583839f975",
   "metadata": {},
   "outputs": [],
   "source": []
  }
 ],
 "metadata": {
  "kernelspec": {
   "display_name": "Python 3 (ipykernel)",
   "language": "python",
   "name": "python3"
  },
  "language_info": {
   "codemirror_mode": {
    "name": "ipython",
    "version": 3
   },
   "file_extension": ".py",
   "mimetype": "text/x-python",
   "name": "python",
   "nbconvert_exporter": "python",
   "pygments_lexer": "ipython3",
   "version": "3.8.17"
  }
 },
 "nbformat": 4,
 "nbformat_minor": 5
}
